{
 "cells": [
  {
   "cell_type": "code",
   "execution_count": 151,
   "metadata": {},
   "outputs": [],
   "source": [
    "import os\n",
    "import time\n",
    "import random\n",
    "\n",
    "from pathlib import Path\n",
    "from decouple import AutoConfig\n",
    "\n",
    "\n",
    "\n",
    "from selenium import webdriver\n",
    "from selenium.webdriver.common.keys import Keys\n"
   ]
  },
  {
   "cell_type": "code",
   "execution_count": 140,
   "metadata": {},
   "outputs": [],
   "source": [
    "config = AutoConfig('../')\n",
    "LUFA_EMAIL = config('LUFA_EMAIL')\n",
    "LUFA_PW = config('LUFA_PW')"
   ]
  },
  {
   "cell_type": "code",
   "execution_count": 164,
   "metadata": {},
   "outputs": [],
   "source": [
    "def cancel_order(email:str, password:str, driver_path:str='../drivers/chromedriver.exe'):\n",
    "    \"\"\"_summary_\n",
    "\n",
    "    Args:\n",
    "        email (str): Email used to login on lufa.com\n",
    "        password (str): Password used to login on lufa.com\n",
    "        driver_path (str): Path or location of the chrome webdriver.exe file\n",
    "    \"\"\"\n",
    "    driver = webdriver.Chrome('../drivers/chromedriver.exe')\n",
    "    \n",
    "    driver.get('https://montreal.lufa.com/en/login')\n",
    "    \n",
    "    user_email_element = driver.find_element_by_id('LoginForm_user_email')\n",
    "    \n",
    "    user_email = driver.find_element_by_id('LoginForm_user_email')\n",
    "    for letter in LUFA_EMAIL:\n",
    "        time.sleep(random.random())\n",
    "        user_email.send_keys(letter)\n",
    "    \n",
    "    user_pw = driver.find_element_by_id('LoginForm_password')\n",
    "    for letter in LUFA_PW:\n",
    "        time.sleep(random.random())\n",
    "        user_pw.send_keys(letter)\n",
    "    \n",
    "    user_pw.send_keys(Keys.RETURN)\n",
    "    \n",
    "    time.sleep(2)\n",
    "    \n",
    "    driver.get('https://montreal.lufa.com/en/account')\n",
    "    \n",
    "    time.sleep(1)\n",
    "    \n",
    "    cancel_order = driver.find_element_by_xpath('//div[contains(@class, \"order-details-buttons\")]/*/span[contains(text(), \"Cancel order\")]')\n",
    "    cancel_order.click()\n",
    "    \n",
    "    time.sleep(2)\n",
    "    \n",
    "    confirm_cancel = driver.find_element_by_xpath('//div[contains(@class, \"cancel-buttons-pop-up\")]/*/div[contains(text(), \"Cancel my basket\")]')\n",
    "    confirm_cancel.click()\n",
    "    \n",
    "    driver.close()\n",
    "    "
   ]
  },
  {
   "cell_type": "code",
   "execution_count": 165,
   "metadata": {},
   "outputs": [],
   "source": [
    "cancel_order(LUFA_EMAIL, LUFA_PW)"
   ]
  },
  {
   "cell_type": "code",
   "execution_count": null,
   "metadata": {},
   "outputs": [],
   "source": []
  }
 ],
 "metadata": {
  "interpreter": {
   "hash": "286fca2b10e84ebe9e9cb57d65a1bf3880e6b3d38d44464a9033fd117d6266a8"
  },
  "kernelspec": {
   "display_name": "Python 3.9.12 64-bit ('lufa_skippa': conda)",
   "language": "python",
   "name": "python3"
  },
  "language_info": {
   "codemirror_mode": {
    "name": "ipython",
    "version": 3
   },
   "file_extension": ".py",
   "mimetype": "text/x-python",
   "name": "python",
   "nbconvert_exporter": "python",
   "pygments_lexer": "ipython3",
   "version": "3.9.12"
  },
  "orig_nbformat": 2
 },
 "nbformat": 4,
 "nbformat_minor": 2
}
